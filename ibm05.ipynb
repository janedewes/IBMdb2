{
  "nbformat": 4,
  "nbformat_minor": 0,
  "metadata": {
    "colab": {
      "name": "ibm05.ipynb",
      "provenance": [],
      "collapsed_sections": [],
      "authorship_tag": "ABX9TyNUiiDxvAQKnfY/Rjc1/5dN"
    },
    "kernelspec": {
      "name": "python3",
      "display_name": "Python 3"
    }
  },
  "cells": [
    {
      "cell_type": "markdown",
      "metadata": {
        "id": "duG0rAwDIKMn",
        "colab_type": "text"
      },
      "source": [
        "This analysis involves 3 datasets for the city of Chicago obtained from the Chicago Data Portal:\n",
        "\n",
        "1. Chicago Socioeconomic Indicators\n",
        "\n",
        "This dataset contains a selection of six socioeconomic indicators of public health significance and a “hardship index,” by Chicago community area, for the years 2008 – 2012.\n",
        "\n",
        "2. Chicago Public Schools\n",
        "\n",
        "This dataset shows all school level performance data used to create CPS School Report Cards for the 2011-2012 school year.\n",
        "\n",
        "3. Chicago Crime Data\n",
        "\n",
        "This dataset reflects reported incidents of crime (with the exception of murders where data exists for each victim) that occurred in the City of Chicago from 2001 to present, minus the most recent seven days.\n",
        "\n",
        "The datasets are on Db2 Cloud"
      ]
    },
    {
      "cell_type": "markdown",
      "metadata": {
        "id": "L610iBiIH2hX",
        "colab_type": "text"
      },
      "source": [
        "Connect to the database"
      ]
    },
    {
      "cell_type": "code",
      "metadata": {
        "id": "KrrlSaxmHvuX",
        "colab_type": "code",
        "colab": {}
      },
      "source": [
        " %reload_ext sql"
      ],
      "execution_count": null,
      "outputs": []
    },
    {
      "cell_type": "code",
      "metadata": {
        "id": "ARy-vRskH-wf",
        "colab_type": "code",
        "colab": {}
      },
      "source": [
        "# Remember the connection string is of the format:\n",
        "%sql ibm_db_sa://xxxxxxxxxxxxxxxxxxxx:xxx/BLUDB\n",
        "# Enter the connection string for your Db2 on Cloud database instance below\n",
        "# i.e. copy after db2:// from the URI string in Service Credentials of your Db2 instance. Remove the double quotes at the end.\n"
      ],
      "execution_count": null,
      "outputs": []
    },
    {
      "cell_type": "code",
      "metadata": {
        "id": "eMtHL4MaIFgQ",
        "colab_type": "code",
        "colab": {}
      },
      "source": [
        "import ibm_db"
      ],
      "execution_count": null,
      "outputs": []
    },
    {
      "cell_type": "code",
      "metadata": {
        "id": "j3PYBtAmIIuM",
        "colab_type": "code",
        "colab": {}
      },
      "source": [
        "import pandas\n",
        "import ibm_db_dbi"
      ],
      "execution_count": null,
      "outputs": []
    },
    {
      "cell_type": "code",
      "metadata": {
        "id": "vwG__erdIPYw",
        "colab_type": "code",
        "colab": {}
      },
      "source": [
        "#Replace the placeholder values with the actuals for your Db2 Service Credentials\n",
        "dsn_driver = \"IBM DB2 ODBC DRIVER\"\n",
        "dsn_database = \"BLUDB\"            # e.g. \"BLUDB\"\n",
        "dsn_hostname = \"\"  # e.g.: \"dashdb-txn-sbox-yp-dal09-04.services.dal.bluemix.net\"\n",
        "dsn_port = \"\"                    # e.g. \"50000\" \n",
        "dsn_protocol = \"\"            # i.e. \"TCPIP\"\n",
        "dsn_uid = \"\"                 # e.g. \"abc12345\"\n",
        "dsn_pwd = \"\"                 # e.g. \"7dBZ3wWt9XN6$o0J\""
      ],
      "execution_count": null,
      "outputs": []
    },
    {
      "cell_type": "code",
      "metadata": {
        "id": "NeXULiRJIZNL",
        "colab_type": "code",
        "colab": {}
      },
      "source": [
        "#Create database connection\n",
        "#DO NOT MODIFY THIS CELL. Just RUN it with Shift + Enter\n",
        "dsn = (\n",
        "    \"DRIVER={0};\"\n",
        "    \"DATABASE={1};\"\n",
        "    \"HOSTNAME={2};\"\n",
        "    \"PORT={3};\"\n",
        "    \"PROTOCOL={4};\"\n",
        "    \"UID={5};\"\n",
        "    \"PWD={6};\").format(dsn_driver, dsn_database, dsn_hostname, dsn_port, dsn_protocol, dsn_uid, dsn_pwd)\n",
        "\n",
        "try:\n",
        "    conn = ibm_db.connect(dsn, \"\", \"\")\n",
        "    print (\"Connected to database: \", dsn_database, \"as user: \", dsn_uid, \"on host: \", dsn_hostname)\n",
        "\n",
        "except:\n",
        "    print (\"Unable to connect: \", ibm_db.conn_errormsg() )\n"
      ],
      "execution_count": null,
      "outputs": []
    },
    {
      "cell_type": "code",
      "metadata": {
        "id": "jJoYJcNyIcR4",
        "colab_type": "code",
        "colab": {}
      },
      "source": [
        "#connection for pandas\n",
        "pconn = ibm_db_dbi.Connection(conn)"
      ],
      "execution_count": null,
      "outputs": []
    },
    {
      "cell_type": "code",
      "metadata": {
        "id": "ti9c5wcxIfS_",
        "colab_type": "code",
        "colab": {}
      },
      "source": [
        "#query statement to retrieve all rows in CENSUS_DATA table\n",
        "selectQuery = \"select * from CENSUS_DATA\"\n",
        "\n",
        "#retrieve the query results into a pandas dataframe\n",
        "df_CENSUS_DATA = pandas.read_sql(selectQuery, pconn)\n",
        "\n",
        "#print the entire data frame\n",
        "df_CENSUS_DATA"
      ],
      "execution_count": null,
      "outputs": []
    },
    {
      "cell_type": "code",
      "metadata": {
        "id": "kBhKPoRMIkiq",
        "colab_type": "code",
        "colab": {}
      },
      "source": [
        "#query statement to retrieve all rows in CENSUS_DATA table\n",
        "selectQuery = \"select * from CHICAGO_PUBLIC_SCHOOLS\"\n",
        "\n",
        "#retrieve the query results into a pandas dataframe\n",
        "df_CHICAGO_PUBLIC_SCHOOLS = pandas.read_sql(selectQuery, pconn)\n",
        "\n",
        "#print the entire data frame\n",
        "df_CHICAGO_PUBLIC_SCHOOLS"
      ],
      "execution_count": null,
      "outputs": []
    },
    {
      "cell_type": "code",
      "metadata": {
        "id": "hMysL0yTIq_P",
        "colab_type": "code",
        "colab": {}
      },
      "source": [
        "#query statement to retrieve all rows in CENSUS_DATA table\n",
        "selectQuery = \"select * from CHICAGO_CRIME_DATA\"\n",
        "\n",
        "#retrieve the query results into a pandas dataframe\n",
        "df_CHICAGO_CRIME_DATA = pandas.read_sql(selectQuery, pconn)\n",
        "\n",
        "#print the entire data frame\n",
        "df_CHICAGO_CRIME_DATA"
      ],
      "execution_count": null,
      "outputs": []
    },
    {
      "cell_type": "code",
      "metadata": {
        "id": "zDIE2DHOItoc",
        "colab_type": "code",
        "colab": {}
      },
      "source": [
        " %reload_ext sql"
      ],
      "execution_count": null,
      "outputs": []
    },
    {
      "cell_type": "markdown",
      "metadata": {
        "id": "bEtL1xJpIw1f",
        "colab_type": "text"
      },
      "source": [
        "Analysis"
      ]
    },
    {
      "cell_type": "code",
      "metadata": {
        "id": "PXCldnoNItm_",
        "colab_type": "code",
        "colab": {}
      },
      "source": [
        "# 1: Find the total number of crimes recorded in the crime table.\n",
        "%sql SELECT COUNT(*) FROM CHICAGO_CRIME_DATA;"
      ],
      "execution_count": null,
      "outputs": []
    },
    {
      "cell_type": "code",
      "metadata": {
        "id": "4LMABtKvI33h",
        "colab_type": "code",
        "colab": {}
      },
      "source": [
        "# 2: Retrieve first 10 rows from the CRIME table.\n",
        "%sql SELECT * FROM  CHICAGO_CRIME_DATA limit 10;"
      ],
      "execution_count": null,
      "outputs": []
    },
    {
      "cell_type": "code",
      "metadata": {
        "id": "BzcBsklFJBxm",
        "colab_type": "code",
        "colab": {}
      },
      "source": [
        "# 3: How many crimes involve an arrest\n",
        "%sql SELECT COUNT(arrest) FROM CHICAGO_CRIME_DATA where arrest = true;"
      ],
      "execution_count": null,
      "outputs": []
    },
    {
      "cell_type": "code",
      "metadata": {
        "id": "U1I8mWWeJJ9N",
        "colab_type": "code",
        "colab": {}
      },
      "source": [
        "# 4: Which unique types of crimes (e.g. THEFT) have been recorded at a GAS STATION locations?\n",
        "%sql SELECT location_description, primary_type FROM CHICAGO_CRIME_DATA where location_description = 'GAS STATION' and primary_type = 'THEFT';\n"
      ],
      "execution_count": null,
      "outputs": []
    },
    {
      "cell_type": "code",
      "metadata": {
        "id": "vuytDiTpJKKM",
        "colab_type": "code",
        "colab": {}
      },
      "source": [
        "# 5: In the CENUS_DATA table list all community areas whose names start with the letter ‘B’.\n",
        "%sql SELECT community_area_name FROM CENSUS_DATA where community_area_name like 'B%';"
      ],
      "execution_count": null,
      "outputs": []
    },
    {
      "cell_type": "code",
      "metadata": {
        "id": "pk9xXsL5JKRi",
        "colab_type": "code",
        "colab": {}
      },
      "source": [
        "# 6: List the schools in community areas 10 to 15 that are healthy school certified.\n",
        "%sql SELECT NAME_OF_SCHOOL, HEALTHY_SCHOOL_CERTIFIED, COMMUNITY_AREA_NUMBER FROM CHICAGO_PUBLIC_SCHOOLS where \\\n",
        "HEALTHY_SCHOOL_CERTIFIED = 'Yes' and COMMUNITY_AREA_NUMBER between 10 and 15;"
      ],
      "execution_count": null,
      "outputs": []
    },
    {
      "cell_type": "code",
      "metadata": {
        "id": "MRXibGlxJedi",
        "colab_type": "code",
        "colab": {}
      },
      "source": [
        "# 7: What is the average school Safety Score?\n",
        "%sql SELECT NAME_OF_SCHOOL, SAFETY_SCORE, HEALTHY_SCHOOL_CERTIFIED, COMMUNITY_AREA_NUMBER from CHICAGO_PUBLIC_SCHOOLS where \\\n",
        "HEALTHY_SCHOOL_CERTIFIED = 'Yes' and COMMUNITY_AREA_NUMBER between 10 and 15;"
      ],
      "execution_count": null,
      "outputs": []
    },
    {
      "cell_type": "code",
      "metadata": {
        "id": "-bM8m-HtJeu8",
        "colab_type": "code",
        "colab": {}
      },
      "source": [
        "# 8: Find the top 5 Community Areas by average College Enrollment [number of students].\n",
        "%sql SELECT distinct COMMUNITY_AREA_NAME, COLLEGE_ENROLLMENT from CHICAGO_PUBLIC_SCHOOLS order by COLLEGE_ENROLLMENT desc limit 5;"
      ],
      "execution_count": null,
      "outputs": []
    },
    {
      "cell_type": "code",
      "metadata": {
        "id": "g6ZLihsHJe8Z",
        "colab_type": "code",
        "colab": {}
      },
      "source": [
        "# 9: Use a sub-query to determine which Community Area has the least value for school Safety Score?\n",
        "%sql SELECT COMMUNITY_AREA_NAME, SAFETY_SCORE from CHICAGO_PUBLIC_SCHOOLS where SAFETY_SCORE = \\\n",
        "(select MIN(SAFETY_SCORE) from CHICAGO_PUBLIC_SCHOOLS);"
      ],
      "execution_count": null,
      "outputs": []
    },
    {
      "cell_type": "code",
      "metadata": {
        "id": "zyiJEShWJfIr",
        "colab_type": "code",
        "colab": {}
      },
      "source": [
        "# 10: [Without using an explicit JOIN operator] Find the Per Capita Income of the Community Area which has a school Safety Score of 1.\n",
        "%sql SELECT community_area_name, per_capita_income from CENSUS_DATA where community_area_name = 'Washington Park';\n"
      ],
      "execution_count": null,
      "outputs": []
    },
    {
      "cell_type": "code",
      "metadata": {
        "id": "jU1CClCZJ6po",
        "colab_type": "code",
        "colab": {}
      },
      "source": [
        "# Close connection\n",
        "ibm_db.close(conn)"
      ],
      "execution_count": null,
      "outputs": []
    },
    {
      "cell_type": "markdown",
      "metadata": {
        "id": "LFRE8SgtJ9Zr",
        "colab_type": "text"
      },
      "source": [
        "OBS: use JNB!"
      ]
    }
  ]
}