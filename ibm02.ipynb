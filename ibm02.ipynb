{
  "nbformat": 4,
  "nbformat_minor": 0,
  "metadata": {
    "colab": {
      "name": "ibm02.ipynb",
      "provenance": [],
      "collapsed_sections": [],
      "authorship_tag": "ABX9TyMT2x0AFZyiVxNDGF6PVI9T"
    },
    "kernelspec": {
      "name": "python3",
      "display_name": "Python 3"
    }
  },
  "cells": [
    {
      "cell_type": "markdown",
      "metadata": {
        "id": "zjWKwCs_04Vd",
        "colab_type": "text"
      },
      "source": [
        "Access DB2 on Cloud using Python"
      ]
    },
    {
      "cell_type": "markdown",
      "metadata": {
        "id": "haj4Zt8F1BzL",
        "colab_type": "text"
      },
      "source": [
        "Introduction\n",
        "\n",
        "This notebook illustrates how to access your database instance using Python by following the steps below:\n",
        "\n",
        "\n",
        "- Import the ibm_db Python library\n",
        "- Identify and enter the database connection credentials\n",
        "- Create the database connection\n",
        "- Create a table\n",
        "- Insert data into the table\n",
        "- Query data from the table\n",
        "- Retrieve the result set into a pandas dataframe\n",
        "- Close the database connection"
      ]
    },
    {
      "cell_type": "code",
      "metadata": {
        "id": "vcL_Xx1U0vlT",
        "colab_type": "code",
        "colab": {}
      },
      "source": [
        "import ibm_db"
      ],
      "execution_count": null,
      "outputs": []
    },
    {
      "cell_type": "markdown",
      "metadata": {
        "id": "bRGCvTGh1dGH",
        "colab_type": "text"
      },
      "source": [
        "Identify the database connection credentials\n",
        "\n",
        "Connecting to dashDB or DB2 database requires the following information:\n",
        "\n",
        "- Driver Name\n",
        "- Database name\n",
        "- Host DNS name or IP address\n",
        "- Host port\n",
        "- Connection protocol\n",
        "- User ID\n",
        "- User Password"
      ]
    },
    {
      "cell_type": "code",
      "metadata": {
        "id": "EfB6wWRM1jlg",
        "colab_type": "code",
        "colab": {}
      },
      "source": [
        "#Replace the placeholder values with the actuals for your Db2 Service Credentials\n",
        "dsn_driver = \"IBM DB2 ODBC DRIVER\"\n",
        "dsn_database = \"\"            # e.g. \"BLUDB\"\n",
        "dsn_hostname = \"\"  # e.g.: \"dashdb-txn-sbox-yp-dal09-04.services.dal.bluemix.net\"\n",
        "dsn_port = \"\"                    # e.g. \"50000\" \n",
        "dsn_protocol = \"\"            # i.e. \"TCPIP\"\n",
        "dsn_uid = \"\"                 # e.g. \"abc12345\"\n",
        "dsn_pwd = \"\"                 # e.g. \"7dBZ3wWt9XN6$o0J\""
      ],
      "execution_count": null,
      "outputs": []
    },
    {
      "cell_type": "markdown",
      "metadata": {
        "id": "_liDWnSM2FZ9",
        "colab_type": "text"
      },
      "source": [
        "Create the database connection\n"
      ]
    },
    {
      "cell_type": "code",
      "metadata": {
        "id": "uktG8m6A2Hz_",
        "colab_type": "code",
        "colab": {}
      },
      "source": [
        "#Create database connection\n",
        "#DO NOT MODIFY THIS CELL. Just RUN it with Shift + Enter\n",
        "dsn = (\n",
        "    \"DRIVER={0};\"\n",
        "    \"DATABASE={1};\"\n",
        "    \"HOSTNAME={2};\"\n",
        "    \"PORT={3};\"\n",
        "    \"PROTOCOL={4};\"\n",
        "    \"UID={5};\"\n",
        "    \"PWD={6};\").format(dsn_driver, dsn_database, dsn_hostname, dsn_port, dsn_protocol, dsn_uid, dsn_pwd)\n",
        "\n",
        "try:\n",
        "    conn = ibm_db.connect(dsn, \"\", \"\")\n",
        "    print (\"Connected to database: \", dsn_database, \"as user: \", dsn_uid, \"on host: \", dsn_hostname)\n",
        "\n",
        "except:\n",
        "    print (\"Unable to connect: \", ibm_db.conn_errormsg() )"
      ],
      "execution_count": null,
      "outputs": []
    },
    {
      "cell_type": "markdown",
      "metadata": {
        "id": "wWsY661E2U82",
        "colab_type": "text"
      },
      "source": [
        "Create a table in the database"
      ]
    },
    {
      "cell_type": "code",
      "metadata": {
        "id": "5hcpYfip2Vpo",
        "colab_type": "code",
        "colab": {}
      },
      "source": [
        "#Lets first drop the table INSTRUCTOR in case it exists from a previous attempt\n",
        "dropQuery = \"drop table INSTRUCTOR\"\n",
        "\n",
        "#Now execute the drop statment\n",
        "dropStmt = ibm_db.exec_immediate(conn, dropQuery)\n",
        "\n",
        "# error"
      ],
      "execution_count": null,
      "outputs": []
    },
    {
      "cell_type": "code",
      "metadata": {
        "id": "TG-KgB7h2fJQ",
        "colab_type": "code",
        "colab": {}
      },
      "source": [
        "#Construct the Create Table DDL statement - replace the ... with rest of the statement\n",
        "createQuery = \"create table INSTRUCTOR(ID INTEGER PRIMARY KEY NOT NULL, FNAME VARCHAR(20), LNAME VARCHAR(20), CITY VARCHAR(20), CCODE CHAR(2))\"\n",
        "\n",
        "#Now fill in the name of the method and execute the statement\n",
        "createStmt = ibm_db.exec_immediate(conn,createQuery)\n",
        "\n",
        "\n",
        "<!-- Hint:\n",
        "createQuery = \"create table INSTRUCTOR(ID INTEGER PRIMARY KEY NOT NULL, FNAME VARCHAR(20), LNAME VARCHAR(20), CITY VARCHAR(20), CCODE CHAR(2))\"\n",
        "createStmt = ibm_db.exec_immediate(conn,createQuery)\n",
        "-->"
      ],
      "execution_count": null,
      "outputs": []
    },
    {
      "cell_type": "markdown",
      "metadata": {
        "id": "zIITKeU82wxJ",
        "colab_type": "text"
      },
      "source": [
        "Insert data into the table"
      ]
    },
    {
      "cell_type": "code",
      "metadata": {
        "id": "Vc_Yi0dE23Kb",
        "colab_type": "code",
        "colab": {}
      },
      "source": [
        "#Construct the query - replace ... with the insert statement\n",
        "insertQuery = \"insert into INSTRUCTOR values (1, 'Rav', 'Ahuja', 'TORONTO', 'CA')\"\n",
        "\n",
        "#execute the insert statement\n",
        "insertStmt = ibm_db.exec_immediate(conn, insertQuery)"
      ],
      "execution_count": null,
      "outputs": []
    },
    {
      "cell_type": "code",
      "metadata": {
        "id": "JQ4kn-3e27SN",
        "colab_type": "code",
        "colab": {}
      },
      "source": [
        "#replace ... with the insert statement that inerts the remaining two rows of data\n",
        "insertQuery = \"insert into INSTRUCTOR values (2, 'Raul', 'Chong', 'Markham', 'CA')\"\n",
        "\n",
        "#execute the statement\n",
        "insertStmt = ibm_db.exec_immediate(conn, insertQuery)"
      ],
      "execution_count": null,
      "outputs": []
    },
    {
      "cell_type": "code",
      "metadata": {
        "id": "-CAFWpdu29l3",
        "colab_type": "code",
        "colab": {}
      },
      "source": [
        "#replace ... with the insert statement that inerts the remaining two rows of data\n",
        "insertQuery = \"insert into INSTRUCTOR values (3, 'Hima', 'Vasudevan', 'Chicago', 'US')\"\n",
        "\n",
        "#execute the statement\n",
        "insertStmt = ibm_db.exec_immediate(conn, insertQuery)"
      ],
      "execution_count": null,
      "outputs": []
    },
    {
      "cell_type": "code",
      "metadata": {
        "id": "XgQL8Yul2_u3",
        "colab_type": "code",
        "colab": {}
      },
      "source": [
        "#replace ... with the insert statement that inerts the remaining two rows of data\n",
        "insertQuery = \"insert into INSTRUCTOR values (3, 'Hima', 'Vasudevan', 'Chicago', 'US')\"\n",
        "\n",
        "#execute the statement\n",
        "insertStmt = ibm_db.exec_immediate(conn, insertQuery)"
      ],
      "execution_count": null,
      "outputs": []
    },
    {
      "cell_type": "markdown",
      "metadata": {
        "id": "z-u7sMwk3CKt",
        "colab_type": "text"
      },
      "source": [
        "Query data in the table"
      ]
    },
    {
      "cell_type": "code",
      "metadata": {
        "id": "zlxuz8A43O39",
        "colab_type": "code",
        "colab": {}
      },
      "source": [
        "#Construct the query that retrieves all rows from the INSTRUCTOR table\n",
        "selectQuery = \"select * from INSTRUCTOR\"\n",
        "\n",
        "#Execute the statement\n",
        "selectStmt = ibm_db.exec_immediate(conn, selectQuery)\n",
        "\n",
        "#Fetch the Dictionary (for the first row only)\n",
        "ibm_db.fetch_both(selectStmt)"
      ],
      "execution_count": null,
      "outputs": []
    },
    {
      "cell_type": "code",
      "metadata": {
        "id": "MdQrI8dc3WgL",
        "colab_type": "code",
        "colab": {}
      },
      "source": [
        "#Fetch the rest of the rows and print the ID and FNAME for those rows\n",
        "while ibm_db.fetch_row(selectStmt) != False:\n",
        "   print (\" ID:\",  ibm_db.result(selectStmt, 0), \" FNAME:\",  ibm_db.result(selectStmt, \"FNAME\"))"
      ],
      "execution_count": null,
      "outputs": []
    },
    {
      "cell_type": "code",
      "metadata": {
        "id": "n7lHgHdx3dTm",
        "colab_type": "code",
        "colab": {}
      },
      "source": [
        "updateQuery = \"update INSTRUCTOR set CITY='MOOSETOWN' where FNAME='Rav'\"\n",
        "updateStmt = ibm_db.exec_immediate(conn, updateQuery))"
      ],
      "execution_count": null,
      "outputs": []
    },
    {
      "cell_type": "markdown",
      "metadata": {
        "id": "nxUIhzt43gd_",
        "colab_type": "text"
      },
      "source": [
        "Retrieve data into Pandas"
      ]
    },
    {
      "cell_type": "code",
      "metadata": {
        "id": "V_wdJzGC3ixk",
        "colab_type": "code",
        "colab": {}
      },
      "source": [
        "import pandas\n",
        "import ibm_db_dbi"
      ],
      "execution_count": null,
      "outputs": []
    },
    {
      "cell_type": "code",
      "metadata": {
        "id": "rwvEHn9J3lUE",
        "colab_type": "code",
        "colab": {}
      },
      "source": [
        "#connection for pandas\n",
        "pconn = ibm_db_dbi.Connection(conn)"
      ],
      "execution_count": null,
      "outputs": []
    },
    {
      "cell_type": "code",
      "metadata": {
        "id": "2uwU1Kcx3n3c",
        "colab_type": "code",
        "colab": {}
      },
      "source": [
        "#query statement to retrieve all rows in INSTRUCTOR table\n",
        "selectQuery = \"select * from INSTRUCTOR\"\n",
        "\n",
        "#retrieve the query results into a pandas dataframe\n",
        "pdf = pandas.read_sql(selectQuery, pconn)\n",
        "\n",
        "#print just the LNAME for first row in the pandas data frame\n",
        "pdf.LNAME[0]"
      ],
      "execution_count": null,
      "outputs": []
    },
    {
      "cell_type": "code",
      "metadata": {
        "id": "QegD3e6q3qYU",
        "colab_type": "code",
        "colab": {}
      },
      "source": [
        "#print the entire data frame\n",
        "pdf"
      ],
      "execution_count": null,
      "outputs": []
    },
    {
      "cell_type": "code",
      "metadata": {
        "id": "xhK7VCVr3tPL",
        "colab_type": "code",
        "colab": {}
      },
      "source": [
        "pdf.shape"
      ],
      "execution_count": null,
      "outputs": []
    },
    {
      "cell_type": "code",
      "metadata": {
        "id": "CpipNFqJ3web",
        "colab_type": "code",
        "colab": {}
      },
      "source": [
        "ibm_db.close(conn)"
      ],
      "execution_count": null,
      "outputs": []
    },
    {
      "cell_type": "markdown",
      "metadata": {
        "id": "zcFXG5Qc3xWJ",
        "colab_type": "text"
      },
      "source": [
        "OBS: use JNB!!"
      ]
    }
  ]
}