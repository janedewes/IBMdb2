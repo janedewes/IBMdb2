{
  "nbformat": 4,
  "nbformat_minor": 0,
  "metadata": {
    "colab": {
      "name": "ibm03.ipynb",
      "provenance": [],
      "collapsed_sections": [],
      "authorship_tag": "ABX9TyPdSxBM2Z1rmkWtQmNX7RZm",
      "include_colab_link": true
    },
    "kernelspec": {
      "name": "python3",
      "display_name": "Python 3"
    }
  },
  "cells": [
    {
      "cell_type": "markdown",
      "metadata": {
        "id": "view-in-github",
        "colab_type": "text"
      },
      "source": [
        "<a href=\"https://colab.research.google.com/github/janedewes/IBMdb2/blob/master/ibm03.ipynb\" target=\"_parent\"><img src=\"https://colab.research.google.com/assets/colab-badge.svg\" alt=\"Open In Colab\"/></a>"
      ]
    },
    {
      "cell_type": "markdown",
      "metadata": {
        "id": "_EbFjOh44RLP",
        "colab_type": "text"
      },
      "source": [
        " Analyzing a real world data-set with SQL and Python"
      ]
    },
    {
      "cell_type": "markdown",
      "metadata": {
        "id": "6RmjftMc4Wns",
        "colab_type": "text"
      },
      "source": [
        "Introduction\n",
        "\n",
        "This notebook shows how to store a dataset into a database using and analyze data using SQL and Python.\n",
        "\n",
        "- Understand a dataset of selected socioeconomic indicators in Chicago\n",
        "- Learn how to store data in an Db2 database on IBM Cloud instance\n",
        "- Solve example problems to practice your SQL skills"
      ]
    },
    {
      "cell_type": "markdown",
      "metadata": {
        "id": "Vy9SAKkD4l7B",
        "colab_type": "text"
      },
      "source": [
        "Selected Socioeconomic Indicators in Chicago\n",
        "\n",
        "The city of Chicago released a dataset of socioeconomic data to the Chicago City Portal. This dataset contains a selection of six socioeconomic indicators of public health significance and a “hardship index,” for each Chicago community area, for the years 2008 – 2012."
      ]
    },
    {
      "cell_type": "markdown",
      "metadata": {
        "id": "aaWak9944s0Z",
        "colab_type": "text"
      },
      "source": [
        "Connect to the database\n",
        "\n",
        "(first load the SQL extension and establish a connection with the database)"
      ]
    },
    {
      "cell_type": "code",
      "metadata": {
        "id": "kAYqzTah4KAQ",
        "colab_type": "code",
        "colab": {}
      },
      "source": [
        " %reload_ext sql"
      ],
      "execution_count": null,
      "outputs": []
    },
    {
      "cell_type": "code",
      "metadata": {
        "id": "oi9Ko75F46mn",
        "colab_type": "code",
        "colab": {}
      },
      "source": [
        "# Remember the connection string is of the format:\n",
        "%sql ibm_db_sa://....@....@xxxxxx.xxxxx.xxxx.xxxxx.net:xxxxx/BLUDB\n",
        "# Enter the connection string for your Db2 on Cloud database instance below\n",
        "# i.e. copy after db2:// from the URI string in Service Credentials of your Db2 instance. Remove the double quotes at the end.\n"
      ],
      "execution_count": null,
      "outputs": []
    },
    {
      "cell_type": "markdown",
      "metadata": {
        "id": "ca_smsvu5WNf",
        "colab_type": "text"
      },
      "source": [
        "Store the dataset in a Table"
      ]
    },
    {
      "cell_type": "code",
      "metadata": {
        "id": "A3TPp_OH5ZfL",
        "colab_type": "code",
        "colab": {}
      },
      "source": [
        "import pandas\n",
        "chicago_socioeconomic_data = pandas.read_csv('https://data.cityofchicago.org/resource/jcxq-k9xf.csv')\n"
      ],
      "execution_count": null,
      "outputs": []
    },
    {
      "cell_type": "code",
      "metadata": {
        "id": "uKr0fo4A5b4z",
        "colab_type": "code",
        "colab": {}
      },
      "source": [
        "chicago_socioeconomic_data"
      ],
      "execution_count": null,
      "outputs": []
    },
    {
      "cell_type": "code",
      "metadata": {
        "id": "OXZSJuZO5fPV",
        "colab_type": "code",
        "colab": {}
      },
      "source": [
        "%sql SELECT * FROM chicago_socioeconomic_data limit 5;"
      ],
      "execution_count": null,
      "outputs": []
    },
    {
      "cell_type": "markdown",
      "metadata": {
        "id": "MCG3JAVU5jP0",
        "colab_type": "text"
      },
      "source": [
        "Analysis"
      ]
    },
    {
      "cell_type": "code",
      "metadata": {
        "id": "e3LdgWZe5mCm",
        "colab_type": "code",
        "colab": {}
      },
      "source": [
        "# 1.How many rows are in the dataset?\n",
        "%sql SELECT COUNT(*) FROM chicago_socioeconomic_data;"
      ],
      "execution_count": null,
      "outputs": []
    },
    {
      "cell_type": "code",
      "metadata": {
        "id": "glHkOUIs5rRX",
        "colab_type": "code",
        "colab": {}
      },
      "source": [
        "# 2.How many community areas in Chicago have a hardship index greater than 50.0?\n",
        "%sql SELECT COUNT(*) FROM chicago_socioeconomic_data WHERE hardship_index > 50.0;"
      ],
      "execution_count": null,
      "outputs": []
    },
    {
      "cell_type": "code",
      "metadata": {
        "id": "LqxdcY5n51sE",
        "colab_type": "code",
        "colab": {}
      },
      "source": [
        "# 3.What is the maximum value of hardship index in this dataset?\n",
        "%sql SELECT MAX(hardship_index) FROM chicago_socioeconomic_data;"
      ],
      "execution_count": null,
      "outputs": []
    },
    {
      "cell_type": "code",
      "metadata": {
        "id": "ekErdeEg6Elb",
        "colab_type": "code",
        "colab": {}
      },
      "source": [
        "# 4.Which community area which has the highest hardship index?\n",
        "%sql SELECT community_area_name FROM chicago_socioeconomic_data where hardship_index=98.0\n",
        "\n",
        "\n",
        "<!-- Hint:\n",
        "## We can use the result of the last query to as an input to this query:\n",
        "%sql SELECT community_area_name FROM chicago_socioeconomic_data where hardship_index=98.0\n",
        "## or another option:\n",
        "%sql SELECT community_area_name FROM chicago_socioeconomic_data ORDER BY hardship_index DESC NULLS LAST FETCH FIRST ROW ONLY;\n",
        "## or you can use a sub-query to determine the max hardship index:\n",
        "%sql select community_area_name from chicago_socioeconomic_data where hardship_index = ( select max(hardship_index) from chicago_socioeconomic_data ) \n",
        "Correct answer: 'Riverdale'\n",
        "-->"
      ],
      "execution_count": null,
      "outputs": []
    },
    {
      "cell_type": "code",
      "metadata": {
        "id": "KxMh-8GJ6VQE",
        "colab_type": "code",
        "colab": {}
      },
      "source": [
        "# 5.Which Chicago community areas have per-capita incomes greater than $60,000?\n",
        "%sql SELECT community_area_name FROM chicago_socioeconomic_data WHERE per_capita_income_ > 60000;"
      ],
      "execution_count": null,
      "outputs": []
    },
    {
      "cell_type": "code",
      "metadata": {
        "id": "XCgzaQra6b43",
        "colab_type": "code",
        "colab": {}
      },
      "source": [
        "# 6.Create a scatter plot using the variables per_capita_income_ and hardship_index. Explain the correlation between the two variables.\n",
        "\n",
        "# if the import command gives ModuleNotFoundError: No module named 'seaborn'\n",
        "# then uncomment the following line i.e. delete the # to install the seaborn package \n",
        "# !pip install seaborn\n",
        "import matplotlib.pyplot as plt\n",
        "%matplotlib inline\n",
        "import seaborn as sns\n",
        "\n",
        "income_vs_hardship = %sql SELECT per_capita_income_, hardship_index FROM chicago_socioeconomic_data;\n",
        "plot = sns.jointplot(x='per_capita_income_',y='hardship_index', data=income_vs_hardship.DataFrame())\n",
        "\n",
        "#Correct answer:You can see that as Per Capita Income rises as the Hardship Index decreases.\n",
        "#We see that the points on the scatter plot are somewhat closer to a straight line in the negative direction, \n",
        "#so we have a negative correlation between the two variables. \n"
      ],
      "execution_count": null,
      "outputs": []
    },
    {
      "cell_type": "markdown",
      "metadata": {
        "id": "cCuWukC863pO",
        "colab_type": "text"
      },
      "source": [
        "OBS: use JNB!!"
      ]
    }
  ]
}