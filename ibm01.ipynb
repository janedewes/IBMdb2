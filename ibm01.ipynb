{
  "nbformat": 4,
  "nbformat_minor": 0,
  "metadata": {
    "colab": {
      "name": "ibm01.ipynb",
      "provenance": [],
      "collapsed_sections": [],
      "authorship_tag": "ABX9TyPTk9vAXPOAMr8+JO/hcCO2"
    },
    "kernelspec": {
      "name": "python3",
      "display_name": "Python 3"
    }
  },
  "cells": [
    {
      "cell_type": "markdown",
      "metadata": {
        "id": "pqNzYCkdzIjM",
        "colab_type": "text"
      },
      "source": [
        "Connect to Db2 database on Cloud using Python"
      ]
    },
    {
      "cell_type": "markdown",
      "metadata": {
        "id": "e1pQiSoFzXso",
        "colab_type": "text"
      },
      "source": [
        "Introduction\n",
        "\n",
        "This notebook illustrates how to access a DB2 database on Cloud using Python by following the steps below:\n",
        "\n",
        "\n",
        "- Import the ibm_db Python library\n",
        "- Enter the database connection credentials\n",
        "- Create the database connection\n",
        "- Close the database connection"
      ]
    },
    {
      "cell_type": "code",
      "metadata": {
        "id": "Gn4OzsHHyzeu",
        "colab_type": "code",
        "colab": {}
      },
      "source": [
        "import ibm_db"
      ],
      "execution_count": null,
      "outputs": []
    },
    {
      "cell_type": "markdown",
      "metadata": {
        "id": "FBC9UNv5zyj6",
        "colab_type": "text"
      },
      "source": [
        "Identify the database connection credentials\n",
        "\n",
        "Connecting to dashDB or DB2 database requires the following information:\n",
        "\n",
        "- Driver Name\n",
        "- Database name\n",
        "- Host DNS name or IP address\n",
        "- Host port\n",
        "- Connection protocol\n",
        "- User ID (or username)\n",
        "- User Password"
      ]
    },
    {
      "cell_type": "code",
      "metadata": {
        "id": "TxTtuxfszzY4",
        "colab_type": "code",
        "colab": {}
      },
      "source": [
        "#Replace the placeholder values with your actual Db2 hostname, username, and password:\n",
        "dsn_hostname = \"YourDb2Hostname\" # e.g.: \"dashdb-txn-sbox-yp-dal09-04.services.dal.bluemix.net\"\n",
        "dsn_uid = \"YourDb2Username\"        # e.g. \"abc12345\"\n",
        "dsn_pwd = \"YoueDb2Password\"      # e.g. \"7dBZ3wWt9XN6$o0J\"\n",
        "\n",
        "dsn_driver = \"{IBM DB2 ODBC DRIVER}\"\n",
        "dsn_database = \"BLUDB\"            # e.g. \"BLUDB\"\n",
        "dsn_port = \"50000\"                # e.g. \"50000\" \n",
        "dsn_protocol = \"TCPIP\"            # i.e. \"TCPIP\""
      ],
      "execution_count": null,
      "outputs": []
    },
    {
      "cell_type": "markdown",
      "metadata": {
        "id": "XNwiuoYc0RCR",
        "colab_type": "text"
      },
      "source": [
        "Create the DB2 database connection"
      ]
    },
    {
      "cell_type": "code",
      "metadata": {
        "id": "AFjsMEgE0RwF",
        "colab_type": "code",
        "colab": {}
      },
      "source": [
        "#DO NOT MODIFY THIS CELL. Just RUN it with Shift + Enter\n",
        "#Create the dsn connection string\n",
        "dsn = (\n",
        "    \"DRIVER={0};\"\n",
        "    \"DATABASE={1};\"\n",
        "    \"HOSTNAME={2};\"\n",
        "    \"PORT={3};\"\n",
        "    \"PROTOCOL={4};\"\n",
        "    \"UID={5};\"\n",
        "    \"PWD={6};\").format(dsn_driver, dsn_database, dsn_hostname, dsn_port, dsn_protocol, dsn_uid, dsn_pwd)\n",
        "\n",
        "#print the connection string to check correct values are specified\n",
        "print(dsn)"
      ],
      "execution_count": null,
      "outputs": []
    },
    {
      "cell_type": "code",
      "metadata": {
        "id": "qWGNS5sI0b9t",
        "colab_type": "code",
        "colab": {}
      },
      "source": [
        "#DO NOT MODIFY THIS CELL. Just RUN it with Shift + Enter\n",
        "#Create database connection\n",
        "\n",
        "try:\n",
        "    conn = ibm_db.connect(dsn, \"\", \"\")\n",
        "    print (\"Connected to database: \", dsn_database, \"as user: \", dsn_uid, \"on host: \", dsn_hostname)\n",
        "\n",
        "except:\n",
        "    print (\"Unable to connect: \", ibm_db.conn_errormsg() )"
      ],
      "execution_count": null,
      "outputs": []
    },
    {
      "cell_type": "code",
      "metadata": {
        "id": "89dPti6o0gdR",
        "colab_type": "code",
        "colab": {}
      },
      "source": [
        "#Retrieve Metadata for the Database Server\n",
        "server = ibm_db.server_info(conn)\n",
        "\n",
        "print (\"DBMS_NAME: \", server.DBMS_NAME)\n",
        "print (\"DBMS_VER:  \", server.DBMS_VER)\n",
        "print (\"DB_NAME:   \", server.DB_NAME)"
      ],
      "execution_count": null,
      "outputs": []
    },
    {
      "cell_type": "markdown",
      "metadata": {
        "id": "utQTCYAI0bEp",
        "colab_type": "text"
      },
      "source": [
        "Close the Connection"
      ]
    },
    {
      "cell_type": "code",
      "metadata": {
        "id": "we3THqJ50bV1",
        "colab_type": "code",
        "colab": {}
      },
      "source": [
        "ibm_db.close(conn)"
      ],
      "execution_count": null,
      "outputs": []
    }
  ]
}