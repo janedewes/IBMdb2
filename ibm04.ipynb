{
  "nbformat": 4,
  "nbformat_minor": 0,
  "metadata": {
    "colab": {
      "name": "ibm04.ipynb",
      "provenance": [],
      "collapsed_sections": [],
      "authorship_tag": "ABX9TyM5SkBXUAGJPIvEgpxzEDC1"
    },
    "kernelspec": {
      "name": "python3",
      "display_name": "Python 3"
    }
  },
  "cells": [
    {
      "cell_type": "markdown",
      "metadata": {
        "id": "P52dnS5E7Qdk",
        "colab_type": "text"
      },
      "source": [
        "Working with a real world data-set using SQL and Python"
      ]
    },
    {
      "cell_type": "markdown",
      "metadata": {
        "id": "5QPAY0Rc91an",
        "colab_type": "text"
      },
      "source": [
        "Introduction\n",
        "\n",
        "- Understand the dataset for Chicago Public School level performance\n",
        "- Store the dataset in an Db2 database on IBM Cloud instance\n",
        "- Retrieve metadata about tables and columns and query data from mixed case columns\n",
        "- Solve example problems to practice your SQL skills including using built-in database functions"
      ]
    },
    {
      "cell_type": "markdown",
      "metadata": {
        "id": "ou5evwxo-KOa",
        "colab_type": "text"
      },
      "source": [
        "Chicago Public Schools - Progress Report Cards (2011-2012)\n",
        "\n",
        "The city of Chicago released a dataset showing all school level performance data used to create School Report Cards for the 2011-2012 school year. The dataset is available from the Chicago Data Portal: https://data.cityofchicago.org/Education/Chicago-Public-Schools-Progress-Report-Cards-2011-/9xs2-f89t\n",
        "\n",
        "\n",
        "This dataset includes a large number of metrics. Start by familiarizing yourself with the types of metrics in the database: https://data.cityofchicago.org/api/assets/AAD41A13-BE8A-4E67-B1F5-86E711E09D5F?download=true\n",
        "\n",
        "\n",
        "NOTE: Do not download the dataset directly from City of Chicago portal. Instead download a more database friendly version from the link below. Now download a static copy of this database and review some of its contents: https://ibm.box.com/shared/static/f9gjvj1gjmxxzycdhplzt01qtz0s7ew7.csv"
      ]
    },
    {
      "cell_type": "markdown",
      "metadata": {
        "id": "ijL4ioQ4-dWN",
        "colab_type": "text"
      },
      "source": [
        "Store the dataset in a Table\n",
        "In many cases the dataset to be analyzed is available as a .CSV (comma separated values) file, perhaps on the internet. To analyze the data using SQL, it first needs to be stored in the database.\n",
        "\n",
        "On Db2:\n",
        "\n",
        "Open the Db2 console, open the LOAD tool, Select / Drag the .CSV file for the CHICAGO PUBLIC SCHOOLS dataset and load the dataset into a new table called SCHOOLS."
      ]
    },
    {
      "cell_type": "markdown",
      "metadata": {
        "id": "-jO5Q_XfDXEl",
        "colab_type": "text"
      },
      "source": [
        "Connect to the database"
      ]
    },
    {
      "cell_type": "code",
      "metadata": {
        "id": "_GPRcfPG7Ir8",
        "colab_type": "code",
        "colab": {}
      },
      "source": [
        "#load the ipython-sql extension and establish a connection with the database\n",
        "%load_ext sql"
      ],
      "execution_count": null,
      "outputs": []
    },
    {
      "cell_type": "code",
      "metadata": {
        "id": "M19QH0_pDmlb",
        "colab_type": "code",
        "colab": {}
      },
      "source": [
        "# Enter the connection string for your Db2 on Cloud database instance below\n",
        "# %sql ibm_db_sa://my-username:my-password@my-hostname:my-port/my-db-name\n",
        "\n",
        "%sql ibm_db_sa://xxxxxxxxxx"
      ],
      "execution_count": null,
      "outputs": []
    },
    {
      "cell_type": "markdown",
      "metadata": {
        "id": "YjxHcY-REGfD",
        "colab_type": "text"
      },
      "source": [
        "Query the database system catalog to retrieve table metadata"
      ]
    },
    {
      "cell_type": "code",
      "metadata": {
        "id": "93FvSqOwDwxU",
        "colab_type": "code",
        "colab": {}
      },
      "source": [
        "# type in your query to retrieve list of all tables in the database for your db2 schema (username)\n",
        "\n",
        "%sql select * from SYSCAT.TABLES where TABNAME = 'FQS42390.CHICAGO_SOCIOECONOMIC_DATA'\n",
        "\n",
        "\n",
        "<!-- Solution:\n",
        "%sql select TABSCHEMA, TABNAME, CREATE_TIME from SYSCAT.TABLES where TABSCHEMA='YOUR-DB2-USERNAME'\n",
        "\n",
        "or, you can retrieve list of all tables where the schema name is not one of the system created ones:\n",
        "\n",
        "%sql select TABSCHEMA, TABNAME, CREATE_TIME from SYSCAT.TABLES \\\n",
        "      where TABSCHEMA not in ('SYSIBM', 'SYSCAT', 'SYSSTAT', 'SYSIBMADM', 'SYSTOOLS', 'SYSPUBLIC')\n",
        "      \n",
        "or, just query for a specifc table that you want to verify exists in the database\n",
        "%sql select * from SYSCAT.TABLES where TABNAME = 'SCHOOLS'\n",
        "-->"
      ],
      "execution_count": null,
      "outputs": []
    },
    {
      "cell_type": "markdown",
      "metadata": {
        "id": "J1w_WAaGEkYn",
        "colab_type": "text"
      },
      "source": [
        "Query the database system catalog to retrieve column metadata"
      ]
    },
    {
      "cell_type": "code",
      "metadata": {
        "id": "D8-9FoFUElfx",
        "colab_type": "code",
        "colab": {}
      },
      "source": [
        "# type in your query to retrieve the number of columns in the SCHOOLS table\n",
        "%sql select count(*) from SYSCAT.COLUMNS where TABNAME = 'FQS42390.CHICAGO_SOCIOECONOMIC_DATA'\n",
        "\n",
        "<!-- Solution:\n",
        "%sql select count(*) from SYSCAT.COLUMNS where TABNAME = 'SCHOOLS'\n",
        "-->"
      ],
      "execution_count": null,
      "outputs": []
    },
    {
      "cell_type": "code",
      "metadata": {
        "id": "ZxaQYc6oE0Hs",
        "colab_type": "code",
        "colab": {}
      },
      "source": [
        "# type in your query to retrieve all column names in the SCHOOLS table along with their datatypes and length\n",
        "%sql select COLNAME, TYPENAME, LENGTH from SYSCAT.COLUMNS where TABNAME = 'FQS42390.CHICAGO_SOCIOECONOMIC_DATA'\n",
        "\n",
        "%sql select distinct(NAME), COLTYPE, LENGTH from SYSIBM.SYSCOLUMNS where TBNAME = 'FQS42390.CHICAGO_SOCIOECONOMIC_DATA'\n",
        "\n",
        "\n",
        "<!-- Solution:\n",
        "%sql select COLNAME, TYPENAME, LENGTH from SYSCAT.COLUMNS where TABNAME = 'SCHOOLS'\n",
        "or\n",
        "%sql select distinct(NAME), COLTYPE, LENGTH from SYSIBM.SYSCOLUMNS where TBNAME = 'SCHOOLS'\n",
        "-->"
      ],
      "execution_count": null,
      "outputs": []
    },
    {
      "cell_type": "markdown",
      "metadata": {
        "id": "pseHFSm_FB-s",
        "colab_type": "text"
      },
      "source": [
        "Analysis"
      ]
    },
    {
      "cell_type": "code",
      "metadata": {
        "id": "omBTNbA2FGNJ",
        "colab_type": "code",
        "colab": {}
      },
      "source": [
        "# 1.How many Elementary Schools are in the dataset?\n",
        "%sql select count(*) from SCHOOLS where \"Elementary, Middle, or High School\" = 'ES'\n",
        "\n",
        "# Correct answer: 462"
      ],
      "execution_count": null,
      "outputs": []
    },
    {
      "cell_type": "code",
      "metadata": {
        "id": "EM9wrWiIFSEP",
        "colab_type": "code",
        "colab": {}
      },
      "source": [
        "# 2.What is the highest Safety Score?\n",
        "%sql select MAX(Safety_Score) AS MAX_SAFETY_SCORE from SCHOOLS\n",
        "\n",
        "# Correct answer: 99"
      ],
      "execution_count": null,
      "outputs": []
    },
    {
      "cell_type": "code",
      "metadata": {
        "id": "bWgj6XCPFdU0",
        "colab_type": "code",
        "colab": {}
      },
      "source": [
        "# 3. Which schools have highest Safety Score?\n",
        "\n",
        "# In the previous problem we found out that the highest Safety Score is 99, so we can use that as an input in the where clause:\n",
        "\n",
        "%sql select Name_of_School, Safety_Score from SCHOOLS where Safety_Score = 99\n",
        "\n",
        "# or, a better way:\n",
        "\n",
        "%sql select Name_of_School, Safety_Score from FQS42390.CHICAGO_SOCIOECONOMIC_DATA\n",
        " where \\\n",
        "  Safety_Score= (select MAX(Safety_Score) from FQS42390.CHICAGO_SOCIOECONOMIC_DATA\n",
        ")\n",
        "\n",
        "\n",
        "# Correct answer: several schools with with Safety Score of 99.\n"
      ],
      "execution_count": null,
      "outputs": []
    },
    {
      "cell_type": "code",
      "metadata": {
        "id": "cZ_dpmaSFsWa",
        "colab_type": "code",
        "colab": {}
      },
      "source": [
        "# 4.What are the top 10 schools with the highest \"Average Student Attendance\"?\n",
        "%sql select Name_of_School, Average_Student_Attendance from SCHOOLS \\\n",
        "    order by Average_Student_Attendance desc nulls last limit 10 "
      ],
      "execution_count": null,
      "outputs": []
    },
    {
      "cell_type": "code",
      "metadata": {
        "id": "vMgBGpuhF1Wn",
        "colab_type": "code",
        "colab": {}
      },
      "source": [
        "# 5. Retrieve the list of 5 Schools with the lowest Average Student Attendance sorted in ascending order based on attendance\n",
        "%sql SELECT Name_of_School, Average_Student_Attendance  \\\n",
        "     from SCHOOLS \\\n",
        "     order by Average_Student_Attendance \\\n",
        "     fetch first 5 rows only"
      ],
      "execution_count": null,
      "outputs": []
    },
    {
      "cell_type": "code",
      "metadata": {
        "id": "MXtXnwttF8R3",
        "colab_type": "code",
        "colab": {}
      },
      "source": [
        "# 6. Now remove the '%' sign from the above result set for Average Student Attendance column\n",
        "%sql SELECT Name_of_School, REPLACE(Average_Student_Attendance, '%', '') \\\n",
        "     from SCHOOLS \\\n",
        "     order by Average_Student_Attendance \\\n",
        "     fetch first 5 rows only\n"
      ],
      "execution_count": null,
      "outputs": []
    },
    {
      "cell_type": "code",
      "metadata": {
        "id": "H0VU5Q9DGBBL",
        "colab_type": "code",
        "colab": {}
      },
      "source": [
        "# 7. Which Schools have Average Student Attendance lower than 70%?\n",
        "%sql SELECT Name_of_School, Average_Student_Attendance  \\\n",
        "     from SCHOOLS \\\n",
        "     where CAST ( REPLACE(Average_Student_Attendance, '%', '') AS DOUBLE ) < 70 \\\n",
        "     order by Average_Student_Attendance\n",
        "     \n",
        "or,\n",
        "\n",
        "%sql SELECT Name_of_School, Average_Student_Attendance  \\\n",
        "     from SCHOOLS \\\n",
        "     where DECIMAL ( REPLACE(Average_Student_Attendance, '%', '') ) < 70 \\\n",
        "     order by Average_Student_Attendance\n"
      ],
      "execution_count": null,
      "outputs": []
    },
    {
      "cell_type": "code",
      "metadata": {
        "id": "Lvbct_sKGKHD",
        "colab_type": "code",
        "colab": {}
      },
      "source": [
        "# 8. Get the total College Enrollment for each Community Area\n",
        "%sql select Community_Area_Name, sum(College_Enrollment) AS TOTAL_ENROLLMENT \\\n",
        "   from SCHOOLS \\\n",
        "   group by Community_Area_Name \n"
      ],
      "execution_count": null,
      "outputs": []
    },
    {
      "cell_type": "code",
      "metadata": {
        "id": "9VVcXEtJGTI5",
        "colab_type": "code",
        "colab": {}
      },
      "source": [
        "# 9.Get the 5 Community Areas with the least total College Enrollment sorted in ascending order\n",
        "%sql select Community_Area_Name, sum(College_Enrollment) AS TOTAL_ENROLLMENT \\\n",
        "   from SCHOOLS \\\n",
        "   group by Community_Area_Name \\\n",
        "   order by TOTAL_ENROLLMENT asc \\\n",
        "   fetch first 5 rows only\n"
      ],
      "execution_count": null,
      "outputs": []
    },
    {
      "cell_type": "code",
      "metadata": {
        "id": "hRd-hX0HGZzI",
        "colab_type": "code",
        "colab": {}
      },
      "source": [
        "# 10.Get the hardship index for the community area which has College Enrollment of 4638\n",
        "#NOTE: For this solution to work the CHICAGO_SOCIOECONOMIC_DATA table \n",
        "    \n",
        "\n",
        "%%sql \n",
        "select hardship_index \n",
        "   from chicago_socioeconomic_data CD, schools CPS \n",
        "   where CD.ca = CPS.community_area_number \n",
        "      and college_enrollment = 4368"
      ],
      "execution_count": null,
      "outputs": []
    },
    {
      "cell_type": "code",
      "metadata": {
        "id": "x4zcVz3iGlG5",
        "colab_type": "code",
        "colab": {}
      },
      "source": [
        "# 11.Get the hardship index for the community area which has the highest value for College Enrollment\n",
        "#NOTE: For this solution to work the CHICAGO_SOCIOECONOMIC_DATA table \n",
        "\n",
        "\n",
        "%sql select ca, community_area_name, hardship_index from chicago_socioeconomic_data \\\n",
        "   where ca in \\\n",
        "   ( select community_area_number from schools order by college_enrollment desc limit 1 )"
      ],
      "execution_count": null,
      "outputs": []
    },
    {
      "cell_type": "code",
      "metadata": {
        "id": "-NFqwBkaG0Gg",
        "colab_type": "code",
        "colab": {}
      },
      "source": [
        "ibm_db.close(conn)"
      ],
      "execution_count": null,
      "outputs": []
    }
  ]
}